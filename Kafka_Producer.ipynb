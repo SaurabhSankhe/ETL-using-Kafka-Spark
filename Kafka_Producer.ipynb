{
 "cells": [
  {
   "cell_type": "code",
   "execution_count": 1,
   "metadata": {},
   "outputs": [],
   "source": [
    "import json\n",
    "import time"
   ]
  },
  {
   "cell_type": "code",
   "execution_count": 2,
   "metadata": {},
   "outputs": [],
   "source": [
    "from time import sleep\n",
    "from json import dumps\n",
    "from kafka import KafkaProducer"
   ]
  },
  {
   "cell_type": "code",
   "execution_count": 3,
   "metadata": {},
   "outputs": [],
   "source": [
    "producer = KafkaProducer(bootstrap_servers=['localhost:9092'],\n",
    "                         value_serializer=lambda x: \n",
    "                         dumps(x).encode('utf-8'))"
   ]
  },
  {
   "cell_type": "code",
   "execution_count": 4,
   "metadata": {},
   "outputs": [],
   "source": [
    "filepath=\"C://Users/Saurabh/Desktop/beijing-aqm.txt\""
   ]
  },
  {
   "cell_type": "code",
   "execution_count": 5,
   "metadata": {},
   "outputs": [],
   "source": [
    "with open(filepath) as fp:\n",
    "    lines = fp.readlines()\n",
    "    fp.close()"
   ]
  },
  {
   "cell_type": "code",
   "execution_count": 6,
   "metadata": {},
   "outputs": [],
   "source": [
    "data=lines[0]"
   ]
  },
  {
   "cell_type": "code",
   "execution_count": 7,
   "metadata": {},
   "outputs": [],
   "source": [
    "JSON_KEYS=data[:len(data)-1].split(\"\\t\")"
   ]
  },
  {
   "cell_type": "code",
   "execution_count": 14,
   "metadata": {},
   "outputs": [
    {
     "name": "stdout",
     "output_type": "stream",
     "text": [
      "{'reading': '1', 'date': '3/1/10 22:00', 'aqi': '172'}\n",
      "{'reading': '2', 'date': '3/1/10 23:00', 'aqi': '173'}\n",
      "{'reading': '3', 'date': '3/2/10 0:00', 'aqi': '174'}\n",
      "{'reading': '4', 'date': '3/2/10 1:00', 'aqi': '174'}\n",
      "{'reading': '5', 'date': '3/2/10 2:00', 'aqi': '178'}\n",
      "{'reading': '6', 'date': '3/2/10 3:00', 'aqi': '178'}\n",
      "{'reading': '7', 'date': '3/2/10 4:00', 'aqi': '182'}\n",
      "{'reading': '8', 'date': '3/2/10 5:00', 'aqi': '180'}\n",
      "{'reading': '9', 'date': '3/2/10 6:00', 'aqi': '184'}\n",
      "{'reading': '10', 'date': '3/2/10 7:00', 'aqi': '187'}\n",
      "{'reading': '11', 'date': '3/2/10 8:00', 'aqi': '194'}\n",
      "{'reading': '12', 'date': '3/2/10 9:00', 'aqi': '214'}\n",
      "{'reading': '13', 'date': '3/2/10 10:00', 'aqi': '219'}\n",
      "{'reading': '14', 'date': '3/2/10 11:00', 'aqi': '165'}\n",
      "{'reading': '15', 'date': '3/2/10 12:00', 'aqi': '155'}\n",
      "{'reading': '16', 'date': '3/2/10 13:00', 'aqi': '105'}\n",
      "{'reading': '17', 'date': '3/2/10 14:00', 'aqi': '105'}\n",
      "{'reading': '18', 'date': '3/2/10 15:00', 'aqi': '102'}\n",
      "{'reading': '19', 'date': '3/2/10 16:00', 'aqi': '89'}\n",
      "{'reading': '20', 'date': '3/2/10 17:00', 'aqi': '82'}\n",
      "{'reading': '21', 'date': '3/2/10 18:00', 'aqi': '84'}\n",
      "{'reading': '22', 'date': '3/2/10 19:00', 'aqi': '97'}\n",
      "{'reading': '23', 'date': '3/2/10 20:00', 'aqi': '122'}\n",
      "{'reading': '24', 'date': '3/2/10 21:00', 'aqi': '182'}\n",
      "{'reading': '25', 'date': '3/2/10 22:00', 'aqi': '194'}\n",
      "{'reading': '26', 'date': '3/2/10 23:00', 'aqi': '189'}\n",
      "{'reading': '27', 'date': '3/3/10 0:00', 'aqi': '179'}\n",
      "{'reading': '28', 'date': '3/3/10 1:00', 'aqi': '172'}\n",
      "{'reading': '29', 'date': '3/3/10 2:00', 'aqi': '170'}\n",
      "{'reading': '30', 'date': '3/3/10 3:00', 'aqi': '208'}\n",
      "{'reading': '31', 'date': '3/3/10 4:00', 'aqi': '228'}\n",
      "{'reading': '32', 'date': '3/3/10 5:00', 'aqi': '192'}\n",
      "{'reading': '33', 'date': '3/3/10 6:00', 'aqi': '180'}\n",
      "{'reading': '34', 'date': '3/3/10 7:00', 'aqi': '181'}\n",
      "{'reading': '35', 'date': '3/3/10 8:00', 'aqi': '185'}\n",
      "{'reading': '36', 'date': '3/3/10 9:00', 'aqi': '187'}\n",
      "{'reading': '37', 'date': '3/3/10 10:00', 'aqi': '191'}\n",
      "{'reading': '38', 'date': '3/3/10 11:00', 'aqi': '198'}\n",
      "{'reading': '39', 'date': '3/3/10 12:00', 'aqi': '215'}\n",
      "{'reading': '40', 'date': '3/3/10 13:00', 'aqi': '252'}\n",
      "{'reading': '41', 'date': '3/3/10 14:00', 'aqi': '280'}\n",
      "{'reading': '42', 'date': '3/3/10 15:00', 'aqi': '297'}\n",
      "{'reading': '43', 'date': '3/3/10 16:00', 'aqi': '286'}\n",
      "{'reading': '44', 'date': '3/3/10 17:00', 'aqi': '277'}\n",
      "{'reading': '45', 'date': '3/3/10 18:00', 'aqi': '274'}\n",
      "{'reading': '46', 'date': '3/3/10 19:00', 'aqi': '237'}\n",
      "{'reading': '47', 'date': '3/3/10 20:00', 'aqi': '200'}\n",
      "{'reading': '48', 'date': '3/3/10 21:00', 'aqi': '197'}\n",
      "{'reading': '49', 'date': '3/3/10 22:00', 'aqi': '186'}\n"
     ]
    }
   ],
   "source": [
    "sleep_time=5\n",
    "size_of_data=len(lines)\n",
    "for i in range(1,50):\n",
    "    json_data={}\n",
    "    data=lines[i]\n",
    "    data=data[:len(data)-1].split(\"\\t\")\n",
    "    json_data[JSON_KEYS[0]]=data[0]\n",
    "    json_data[JSON_KEYS[1]]=data[1]\n",
    "    json_data[JSON_KEYS[2]]=data[2]\n",
    "    #json_data = json.dumps(json_data)\n",
    "    print(json_data)\n",
    "    producer.send('weatherdata', value=json_data)\n",
    "    time.sleep(sleep_time)"
   ]
  },
  {
   "cell_type": "code",
   "execution_count": null,
   "metadata": {},
   "outputs": [],
   "source": []
  },
  {
   "cell_type": "code",
   "execution_count": null,
   "metadata": {},
   "outputs": [],
   "source": []
  },
  {
   "cell_type": "code",
   "execution_count": null,
   "metadata": {},
   "outputs": [],
   "source": []
  },
  {
   "cell_type": "code",
   "execution_count": null,
   "metadata": {},
   "outputs": [],
   "source": []
  }
 ],
 "metadata": {
  "kernelspec": {
   "display_name": "Python 3",
   "language": "python",
   "name": "python3"
  },
  "language_info": {
   "codemirror_mode": {
    "name": "ipython",
    "version": 3
   },
   "file_extension": ".py",
   "mimetype": "text/x-python",
   "name": "python",
   "nbconvert_exporter": "python",
   "pygments_lexer": "ipython3",
   "version": "3.7.0"
  }
 },
 "nbformat": 4,
 "nbformat_minor": 2
}
