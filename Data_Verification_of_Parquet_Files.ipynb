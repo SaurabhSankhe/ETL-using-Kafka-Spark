{
 "cells": [
  {
   "cell_type": "code",
   "execution_count": 5,
   "metadata": {},
   "outputs": [],
   "source": [
    "from pyspark.sql import SparkSession\n",
    "# initialise sparkContext\n",
    "spark = SparkSession.builder \\\n",
    "    .master('local') \\\n",
    "    .appName('myAppName') \\\n",
    "    .config('spark.executor.memory', '5gb') \\\n",
    "    .config(\"spark.cores.max\", \"6\") \\\n",
    "    .getOrCreate()\n",
    "\n",
    "sc = spark.sparkContext\n",
    "\n",
    "# using SQLContext to read parquet file\n",
    "from pyspark.sql import SQLContext\n",
    "sqlContext = SQLContext(sc)\n",
    "\n",
    "# to read all parquet file\n",
    "df = sqlContext.read.parquet('c:/Users/Saurabh/Desktop/My_Data/Parquet_Files/proto.parquet/*')"
   ]
  },
  {
   "cell_type": "code",
   "execution_count": 6,
   "metadata": {},
   "outputs": [
    {
     "name": "stdout",
     "output_type": "stream",
     "text": [
      "+---+------------+-------+\n",
      "|aqi|        date|reading|\n",
      "+---+------------+-------+\n",
      "|105|3/2/10 13:00|     16|\n",
      "|105|3/2/10 14:00|     17|\n",
      "|102|3/2/10 15:00|     18|\n",
      "| 89|3/2/10 16:00|     19|\n",
      "| 82|3/2/10 17:00|     20|\n",
      "| 84|3/2/10 18:00|     21|\n",
      "|174| 3/2/10 1:00|      4|\n",
      "|178| 3/2/10 2:00|      5|\n",
      "|178| 3/2/10 3:00|      6|\n",
      "|182| 3/2/10 4:00|      7|\n",
      "|180| 3/2/10 5:00|      8|\n",
      "|184| 3/2/10 6:00|      9|\n",
      "| 97|3/2/10 19:00|     22|\n",
      "|122|3/2/10 20:00|     23|\n",
      "|182|3/2/10 21:00|     24|\n",
      "|194|3/2/10 22:00|     25|\n",
      "|189|3/2/10 23:00|     26|\n",
      "|179| 3/3/10 0:00|     27|\n",
      "|181| 3/3/10 7:00|     34|\n",
      "|185| 3/3/10 8:00|     35|\n",
      "+---+------------+-------+\n",
      "only showing top 20 rows\n",
      "\n"
     ]
    }
   ],
   "source": [
    "df.show()"
   ]
  },
  {
   "cell_type": "code",
   "execution_count": 7,
   "metadata": {},
   "outputs": [],
   "source": [
    "sc.stop()"
   ]
  },
  {
   "cell_type": "code",
   "execution_count": null,
   "metadata": {},
   "outputs": [],
   "source": []
  }
 ],
 "metadata": {
  "kernelspec": {
   "display_name": "Python 3",
   "language": "python",
   "name": "python3"
  },
  "language_info": {
   "codemirror_mode": {
    "name": "ipython",
    "version": 3
   },
   "file_extension": ".py",
   "mimetype": "text/x-python",
   "name": "python",
   "nbconvert_exporter": "python",
   "pygments_lexer": "ipython3",
   "version": "3.7.0"
  }
 },
 "nbformat": 4,
 "nbformat_minor": 2
}
